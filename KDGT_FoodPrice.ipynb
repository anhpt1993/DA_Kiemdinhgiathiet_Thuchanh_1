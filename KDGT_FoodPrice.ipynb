{
 "cells": [
  {
   "cell_type": "markdown",
   "id": "d033f569-fff2-4bda-811b-cff275b0d742",
   "metadata": {},
   "source": [
    "# 0. Khai báo các thư viện cần thiết"
   ]
  },
  {
   "cell_type": "code",
   "execution_count": 1,
   "id": "923feaec-168c-47c1-9744-820e3794f074",
   "metadata": {},
   "outputs": [],
   "source": [
    "import pandas as pd\n",
    "from scipy import stats\n",
    "import matplotlib.pyplot as plt\n",
    "import seaborn as sns"
   ]
  },
  {
   "cell_type": "markdown",
   "id": "50280158-6769-455f-8c63-a3aedb5a682a",
   "metadata": {},
   "source": [
    "# 1. Đọc dữ liệu từ file CSV"
   ]
  },
  {
   "cell_type": "code",
   "execution_count": 2,
   "id": "0691c1b0-d3b6-4e4d-bcb1-0f27b4594b1d",
   "metadata": {},
   "outputs": [
    {
     "data": {
      "text/html": [
       "<div>\n",
       "<style scoped>\n",
       "    .dataframe tbody tr th:only-of-type {\n",
       "        vertical-align: middle;\n",
       "    }\n",
       "\n",
       "    .dataframe tbody tr th {\n",
       "        vertical-align: top;\n",
       "    }\n",
       "\n",
       "    .dataframe thead th {\n",
       "        text-align: right;\n",
       "    }\n",
       "</style>\n",
       "<table border=\"1\" class=\"dataframe\">\n",
       "  <thead>\n",
       "    <tr style=\"text-align: right;\">\n",
       "      <th></th>\n",
       "      <th>Place</th>\n",
       "      <th>ProductId</th>\n",
       "      <th>ProductName</th>\n",
       "      <th>UmId</th>\n",
       "      <th>UmName</th>\n",
       "      <th>Month</th>\n",
       "      <th>Year</th>\n",
       "      <th>Price</th>\n",
       "    </tr>\n",
       "  </thead>\n",
       "  <tbody>\n",
       "    <tr>\n",
       "      <th>0</th>\n",
       "      <td>National Average</td>\n",
       "      <td>52</td>\n",
       "      <td>Rice - Retail</td>\n",
       "      <td>5</td>\n",
       "      <td>KG</td>\n",
       "      <td>5</td>\n",
       "      <td>2013</td>\n",
       "      <td>4.4920</td>\n",
       "    </tr>\n",
       "    <tr>\n",
       "      <th>1</th>\n",
       "      <td>National Average</td>\n",
       "      <td>52</td>\n",
       "      <td>Rice - Retail</td>\n",
       "      <td>5</td>\n",
       "      <td>KG</td>\n",
       "      <td>6</td>\n",
       "      <td>2013</td>\n",
       "      <td>4.5786</td>\n",
       "    </tr>\n",
       "    <tr>\n",
       "      <th>2</th>\n",
       "      <td>National Average</td>\n",
       "      <td>52</td>\n",
       "      <td>Rice - Retail</td>\n",
       "      <td>5</td>\n",
       "      <td>KG</td>\n",
       "      <td>11</td>\n",
       "      <td>2013</td>\n",
       "      <td>4.7865</td>\n",
       "    </tr>\n",
       "    <tr>\n",
       "      <th>3</th>\n",
       "      <td>National Average</td>\n",
       "      <td>52</td>\n",
       "      <td>Rice - Retail</td>\n",
       "      <td>5</td>\n",
       "      <td>KG</td>\n",
       "      <td>12</td>\n",
       "      <td>2013</td>\n",
       "      <td>5.1337</td>\n",
       "    </tr>\n",
       "    <tr>\n",
       "      <th>4</th>\n",
       "      <td>National Average</td>\n",
       "      <td>52</td>\n",
       "      <td>Rice - Retail</td>\n",
       "      <td>5</td>\n",
       "      <td>KG</td>\n",
       "      <td>1</td>\n",
       "      <td>2014</td>\n",
       "      <td>5.5099</td>\n",
       "    </tr>\n",
       "  </tbody>\n",
       "</table>\n",
       "</div>"
      ],
      "text/plain": [
       "              Place  ProductId    ProductName  UmId UmName  Month  Year  \\\n",
       "0  National Average         52  Rice - Retail     5     KG      5  2013   \n",
       "1  National Average         52  Rice - Retail     5     KG      6  2013   \n",
       "2  National Average         52  Rice - Retail     5     KG     11  2013   \n",
       "3  National Average         52  Rice - Retail     5     KG     12  2013   \n",
       "4  National Average         52  Rice - Retail     5     KG      1  2014   \n",
       "\n",
       "    Price  \n",
       "0  4.4920  \n",
       "1  4.5786  \n",
       "2  4.7865  \n",
       "3  5.1337  \n",
       "4  5.5099  "
      ]
     },
     "execution_count": 2,
     "metadata": {},
     "output_type": "execute_result"
    }
   ],
   "source": [
    "df = pd.read_csv(\"https://s3.ap-southeast-1.amazonaws.com/learn.codegym.vn/media/public/2021/12/31021019/FoodPrice_in_Turkey.csv\", encoding = \"ISO-8859-1\")\n",
    "df.head()"
   ]
  },
  {
   "cell_type": "code",
   "execution_count": 3,
   "id": "3968466c-5158-4737-8a2b-55828ee13c71",
   "metadata": {},
   "outputs": [
    {
     "name": "stdout",
     "output_type": "stream",
     "text": [
      "<class 'pandas.core.frame.DataFrame'>\n",
      "RangeIndex: 7381 entries, 0 to 7380\n",
      "Data columns (total 8 columns):\n",
      " #   Column       Non-Null Count  Dtype  \n",
      "---  ------       --------------  -----  \n",
      " 0   Place        7381 non-null   object \n",
      " 1   ProductId    7381 non-null   int64  \n",
      " 2   ProductName  7381 non-null   object \n",
      " 3   UmId         7381 non-null   int64  \n",
      " 4   UmName       7381 non-null   object \n",
      " 5   Month        7381 non-null   int64  \n",
      " 6   Year         7381 non-null   int64  \n",
      " 7   Price        7381 non-null   float64\n",
      "dtypes: float64(1), int64(4), object(3)\n",
      "memory usage: 461.4+ KB\n"
     ]
    }
   ],
   "source": [
    "df.info()"
   ]
  },
  {
   "cell_type": "markdown",
   "id": "ac53f7d2-f4dc-4964-a502-be9a5223c0ef",
   "metadata": {},
   "source": [
    "# 1. Với mức ý nghĩa 5% kiểm định giải thiết giá gạo trung bình năm 2019 là 10 Lira/kg"
   ]
  },
  {
   "cell_type": "code",
   "execution_count": 4,
   "id": "c474c01c-27d3-40c6-9859-5429aa0e4ca4",
   "metadata": {},
   "outputs": [
    {
     "data": {
      "text/plain": [
       "array(['Rice - Retail', 'Wheat flour - Retail', 'Beans (white) - Retail',\n",
       "       'Potatoes - Retail', 'Eggs - Retail', 'Meat (chicken) - Retail',\n",
       "       'Sugar - Retail', 'Garlic - Retail', 'Lentils - Retail',\n",
       "       'Pasta - Retail', 'Tomatoes - Retail',\n",
       "       'Groundnuts (shelled) - Retail', 'Bread (common) - Retail',\n",
       "       'Coffee - Retail', 'Onions - Retail', 'Tea (green) - Retail',\n",
       "       'Cabbage - Retail', 'Meat (mutton) - Retail',\n",
       "       'Oil (sunflower) - Retail', 'Salt - Retail',\n",
       "       'Coffee (instant) - Retail', 'Peas (green, dry) - Retail',\n",
       "       'Apples (red) - Retail', 'Cauliflower - Retail',\n",
       "       'Cucumbers (greenhouse) - Retail', 'Oil (olive) - Retail',\n",
       "       'Chickpeas - Retail', 'Bananas - Retail', 'Bulgur - Retail',\n",
       "       'Tea - Retail', 'Fuel (petrol-gasoline) - Retail',\n",
       "       'Transport (public) - Retail', 'Tomatoes (paste) - Retail',\n",
       "       'Fuel (gas) - Retail', 'Apples - Retail', 'Oranges - Retail',\n",
       "       'Yogurt - Retail', 'Bread (pita) - Retail', 'Cucumbers - Retail',\n",
       "       'Fish (fresh) - Retail', 'Spinach - Retail', 'Cheese - Retail',\n",
       "       'Meat (veal) - Retail', 'Eggplants - Retail',\n",
       "       'Milk (powder, infant formula) - Retail', 'Zucchini - Retail',\n",
       "       'Milk (pasteurized) - Retail',\n",
       "       'Wage (non-qualified labour, non-agricultural) - Retail',\n",
       "       'Electricity - Retail', 'Tea (herbal) - Retail', 'Water - Retail',\n",
       "       'Cocoa (powder) - Retail'], dtype=object)"
      ]
     },
     "execution_count": 4,
     "metadata": {},
     "output_type": "execute_result"
    }
   ],
   "source": [
    "# Liệt kê các sản phẩm\n",
    "df.ProductName.unique()"
   ]
  },
  {
   "cell_type": "code",
   "execution_count": 5,
   "id": "a726ef94-a986-455a-b13d-82c89b9eef68",
   "metadata": {},
   "outputs": [
    {
     "name": "stdout",
     "output_type": "stream",
     "text": [
      "<class 'pandas.core.frame.DataFrame'>\n",
      "Int64Index: 48 entries, 54 to 5833\n",
      "Data columns (total 8 columns):\n",
      " #   Column       Non-Null Count  Dtype  \n",
      "---  ------       --------------  -----  \n",
      " 0   Place        48 non-null     object \n",
      " 1   ProductId    48 non-null     int64  \n",
      " 2   ProductName  48 non-null     object \n",
      " 3   UmId         48 non-null     int64  \n",
      " 4   UmName       48 non-null     object \n",
      " 5   Month        48 non-null     int64  \n",
      " 6   Year         48 non-null     int64  \n",
      " 7   Price        48 non-null     float64\n",
      "dtypes: float64(1), int64(4), object(3)\n",
      "memory usage: 3.4+ KB\n"
     ]
    }
   ],
   "source": [
    "# Lọc ra dataframe chỉ chứa giá gạo năm 2019\n",
    "df_rice = df[(df.ProductName == \"Rice - Retail\") & (df.Year == 2019)]\n",
    "df_rice.info()"
   ]
  },
  {
   "cell_type": "code",
   "execution_count": 6,
   "id": "bcf32b86-2676-46bc-aadd-10dfaf08e6a6",
   "metadata": {},
   "outputs": [
    {
     "data": {
      "text/html": [
       "<div>\n",
       "<style scoped>\n",
       "    .dataframe tbody tr th:only-of-type {\n",
       "        vertical-align: middle;\n",
       "    }\n",
       "\n",
       "    .dataframe tbody tr th {\n",
       "        vertical-align: top;\n",
       "    }\n",
       "\n",
       "    .dataframe thead th {\n",
       "        text-align: right;\n",
       "    }\n",
       "</style>\n",
       "<table border=\"1\" class=\"dataframe\">\n",
       "  <thead>\n",
       "    <tr style=\"text-align: right;\">\n",
       "      <th></th>\n",
       "      <th>ProductId</th>\n",
       "      <th>UmId</th>\n",
       "      <th>Month</th>\n",
       "      <th>Year</th>\n",
       "      <th>Price</th>\n",
       "    </tr>\n",
       "  </thead>\n",
       "  <tbody>\n",
       "    <tr>\n",
       "      <th>count</th>\n",
       "      <td>48.0</td>\n",
       "      <td>48.0</td>\n",
       "      <td>48.000000</td>\n",
       "      <td>48.0</td>\n",
       "      <td>48.000000</td>\n",
       "    </tr>\n",
       "    <tr>\n",
       "      <th>mean</th>\n",
       "      <td>52.0</td>\n",
       "      <td>5.0</td>\n",
       "      <td>6.500000</td>\n",
       "      <td>2019.0</td>\n",
       "      <td>9.384565</td>\n",
       "    </tr>\n",
       "    <tr>\n",
       "      <th>std</th>\n",
       "      <td>0.0</td>\n",
       "      <td>0.0</td>\n",
       "      <td>3.488583</td>\n",
       "      <td>0.0</td>\n",
       "      <td>0.674674</td>\n",
       "    </tr>\n",
       "    <tr>\n",
       "      <th>min</th>\n",
       "      <td>52.0</td>\n",
       "      <td>5.0</td>\n",
       "      <td>1.000000</td>\n",
       "      <td>2019.0</td>\n",
       "      <td>8.061700</td>\n",
       "    </tr>\n",
       "    <tr>\n",
       "      <th>25%</th>\n",
       "      <td>52.0</td>\n",
       "      <td>5.0</td>\n",
       "      <td>3.750000</td>\n",
       "      <td>2019.0</td>\n",
       "      <td>8.798975</td>\n",
       "    </tr>\n",
       "    <tr>\n",
       "      <th>50%</th>\n",
       "      <td>52.0</td>\n",
       "      <td>5.0</td>\n",
       "      <td>6.500000</td>\n",
       "      <td>2019.0</td>\n",
       "      <td>9.430650</td>\n",
       "    </tr>\n",
       "    <tr>\n",
       "      <th>75%</th>\n",
       "      <td>52.0</td>\n",
       "      <td>5.0</td>\n",
       "      <td>9.250000</td>\n",
       "      <td>2019.0</td>\n",
       "      <td>10.110000</td>\n",
       "    </tr>\n",
       "    <tr>\n",
       "      <th>max</th>\n",
       "      <td>52.0</td>\n",
       "      <td>5.0</td>\n",
       "      <td>12.000000</td>\n",
       "      <td>2019.0</td>\n",
       "      <td>10.404300</td>\n",
       "    </tr>\n",
       "  </tbody>\n",
       "</table>\n",
       "</div>"
      ],
      "text/plain": [
       "       ProductId  UmId      Month    Year      Price\n",
       "count       48.0  48.0  48.000000    48.0  48.000000\n",
       "mean        52.0   5.0   6.500000  2019.0   9.384565\n",
       "std          0.0   0.0   3.488583     0.0   0.674674\n",
       "min         52.0   5.0   1.000000  2019.0   8.061700\n",
       "25%         52.0   5.0   3.750000  2019.0   8.798975\n",
       "50%         52.0   5.0   6.500000  2019.0   9.430650\n",
       "75%         52.0   5.0   9.250000  2019.0  10.110000\n",
       "max         52.0   5.0  12.000000  2019.0  10.404300"
      ]
     },
     "execution_count": 6,
     "metadata": {},
     "output_type": "execute_result"
    }
   ],
   "source": [
    "df_rice.describe()"
   ]
  },
  {
   "cell_type": "code",
   "execution_count": 7,
   "id": "83cea9b0-f89c-49e6-bc01-576e5c21509b",
   "metadata": {},
   "outputs": [
    {
     "data": {
      "text/plain": [
       "<seaborn.axisgrid.FacetGrid at 0x24112dd4e50>"
      ]
     },
     "execution_count": 7,
     "metadata": {},
     "output_type": "execute_result"
    },
    {
     "data": {
      "image/png": "[encoded data removed]",
      "text/plain": [
       "<Figure size 360x360 with 1 Axes>"
      ]
     },
     "metadata": {
      "needs_background": "light"
     },
     "output_type": "display_data"
    }
   ],
   "source": [
    "sns.displot(x = df_rice.Price)"
   ]
  },
  {
   "cell_type": "code",
   "execution_count": 8,
   "id": "268c0047-dd09-4c5a-bcb3-29e5a0bc41e8",
   "metadata": {},
   "outputs": [
    {
     "data": {
      "text/plain": [
       "<AxesSubplot:xlabel='Price', ylabel='Density'>"
      ]
     },
     "execution_count": 8,
     "metadata": {},
     "output_type": "execute_result"
    },
    {
     "data": {
      "image/png": "[encoded data removed]",
      "text/plain": [
       "<Figure size 432x288 with 1 Axes>"
      ]
     },
     "metadata": {
      "needs_background": "light"
     },
     "output_type": "display_data"
    }
   ],
   "source": [
    "sns.kdeplot(x = \"Price\", data = df_rice)"
   ]
  },
  {
   "cell_type": "markdown",
   "id": "84d83429-3eeb-49c0-9844-6f12bb08c99e",
   "metadata": {},
   "source": [
    "Do phân bố có xu hướng gần giống phân bố chuẩn, nên lực chọn thực hiện kiểm định hai phía với One Sample T test\n",
    "- Giả thuyết không: Giá gạo trung bình  = 9.5\n",
    "- Giả thuyết đối: Giá gạo trung bình # 9.5"
   ]
  },
  {
   "cell_type": "code",
   "execution_count": 9,
   "id": "787ac328-1cf5-49a6-af47-4e46626a5a23",
   "metadata": {},
   "outputs": [
    {
     "name": "stdout",
     "output_type": "stream",
     "text": [
      "Ttest_1sampResult(statistic=-1.1854023812590566, pvalue=0.24181730968913567)\n"
     ]
    }
   ],
   "source": [
    "print(stats.ttest_1samp(df_rice.Price, 9.5))"
   ]
  },
  {
   "cell_type": "markdown",
   "id": "591d04d7-eb07-49a2-8644-62cd6e51f399",
   "metadata": {},
   "source": [
    "Do giá trị pvalue > 5% nên không đủ cơ sở để bác bỏ giả thuyết không.</br>\n",
    "=> Kết luận: Với mức ý nghĩa 5% có thể nhận định giá gạo trung bình bằng 9.5 Lira/kg"
   ]
  },
  {
   "cell_type": "markdown",
   "id": "22f0db3a-e20d-43a3-903e-4f4072e22484",
   "metadata": {},
   "source": [
    "# 2. Với mức ý nghĩa 5% hãy kiểm định giả thiết: Giá bột mỳ và giá gạo ở Turkey năm 2019 là bằng nhau"
   ]
  },
  {
   "cell_type": "code",
   "execution_count": 10,
   "id": "165036b5-17ac-47c5-9858-9498ccb202e7",
   "metadata": {},
   "outputs": [],
   "source": [
    "# Lấy thông tin bột mỳ năm 2019\n",
    "df_wheat = df[(df.ProductName == \"Wheat flour - Retail\") & (df.Year == 2019)]"
   ]
  },
  {
   "cell_type": "code",
   "execution_count": 11,
   "id": "7ec23ea3-de6c-4dd1-8713-793bb826af71",
   "metadata": {},
   "outputs": [
    {
     "data": {
      "text/plain": [
       "count    48.000000\n",
       "mean      3.685917\n",
       "std       0.290390\n",
       "min       3.067200\n",
       "25%       3.504250\n",
       "50%       3.770950\n",
       "75%       3.900500\n",
       "max       4.270300\n",
       "Name: Price, dtype: float64"
      ]
     },
     "execution_count": 11,
     "metadata": {},
     "output_type": "execute_result"
    }
   ],
   "source": [
    "df_wheat.Price.describe()"
   ]
  },
  {
   "cell_type": "code",
   "execution_count": 12,
   "id": "a804077d-5b1e-4d6e-a647-8589c26a51ed",
   "metadata": {},
   "outputs": [
    {
     "data": {
      "text/plain": [
       "<AxesSubplot:>"
      ]
     },
     "execution_count": 12,
     "metadata": {},
     "output_type": "execute_result"
    },
    {
     "data": {
      "image/png": "[encoded data removed]",
      "text/plain": [
       "<Figure size 432x288 with 1 Axes>"
      ]
     },
     "metadata": {
      "needs_background": "light"
     },
     "output_type": "display_data"
    }
   ],
   "source": [
    "# Tạo boxplot so sánh phân bố của bột lỳ và giá gạo\n",
    "price = {\"rice\": list(df_rice.Price),\n",
    "        \"wheat\": list(df_wheat.Price)}\n",
    "df_price = pd.DataFrame(price)\n",
    "sns.boxplot(data = df_price)"
   ]
  },
  {
   "cell_type": "markdown",
   "id": "92d577da-5bdb-4569-afe3-5f1e22c64ad2",
   "metadata": {},
   "source": [
    "Nhìn vào phân bố trên, chúng ta có thể kết luận rằng giá bột mỳ luôn thấp hơn giá gạo. </br>\n",
    "Để chứng minh nhận định giá bột mỳ và giá gạo không giống nhau, chúng ta thực hiện so sánh trung bình độc lập - independent T Test </br>\n",
    "- Giả thuyết không: Giá bột mỳ trung bình bằng giá gạo\n",
    "- Giả thuyết đối: Giá bột mỳ trung bình khác giá gạo"
   ]
  },
  {
   "cell_type": "code",
   "execution_count": 13,
   "id": "e658a576-034b-48f0-9c75-6420a8cebbf4",
   "metadata": {},
   "outputs": [
    {
     "name": "stdout",
     "output_type": "stream",
     "text": [
      "Ttest_indResult(statistic=53.7516920363042, pvalue=7.11046528586048e-55)\n"
     ]
    }
   ],
   "source": [
    "print(stats.ttest_ind(price[\"rice\"], price[\"wheat\"], equal_var= False))"
   ]
  },
  {
   "cell_type": "markdown",
   "id": "14bcc221-42be-43a4-9e13-44111e02eeb0",
   "metadata": {},
   "source": [
    "Chúng ta có thể thấy pvalue = 7.11 * 10 ^ -55 < 5%, bác bỏ giả thuyết không, chấp nhận giả thuyết đối </br>\n",
    "=> Kết luận: Giá bột mỳ và giá gạo trung bình năm 2019 là khác nhau"
   ]
  },
  {
   "cell_type": "markdown",
   "id": "bed2eb2c-f4fe-41ef-b59d-e2c14c1dc8d1",
   "metadata": {},
   "source": [
    "# 3. Vẽ biểu đổ biến đổi giá gạo trung bình năm từ 1/2014 đến 1/2019 và tìm mối liên hệ giữa giá Trà và giá Cà Phê"
   ]
  },
  {
   "cell_type": "code",
   "execution_count": 14,
   "id": "50d433f5-dcdb-4f8a-bbef-6202061fde02",
   "metadata": {},
   "outputs": [],
   "source": [
    "# Chuyển đổi dữ liệu ngày tháng\n",
    "df[\"Time\"] = pd.to_datetime(df.Year.astype(str) + \"/\" + df.Month.astype(str))"
   ]
  },
  {
   "cell_type": "code",
   "execution_count": 15,
   "id": "b614f8fb-b87c-4545-b8ad-e3a2fecc0452",
   "metadata": {},
   "outputs": [
    {
     "name": "stdout",
     "output_type": "stream",
     "text": [
      "<class 'pandas.core.frame.DataFrame'>\n",
      "RangeIndex: 7381 entries, 0 to 7380\n",
      "Data columns (total 9 columns):\n",
      " #   Column       Non-Null Count  Dtype         \n",
      "---  ------       --------------  -----         \n",
      " 0   Place        7381 non-null   object        \n",
      " 1   ProductId    7381 non-null   int64         \n",
      " 2   ProductName  7381 non-null   object        \n",
      " 3   UmId         7381 non-null   int64         \n",
      " 4   UmName       7381 non-null   object        \n",
      " 5   Month        7381 non-null   int64         \n",
      " 6   Year         7381 non-null   int64         \n",
      " 7   Price        7381 non-null   float64       \n",
      " 8   Time         7381 non-null   datetime64[ns]\n",
      "dtypes: datetime64[ns](1), float64(1), int64(4), object(3)\n",
      "memory usage: 519.1+ KB\n"
     ]
    }
   ],
   "source": [
    "df.info()"
   ]
  },
  {
   "cell_type": "code",
   "execution_count": 16,
   "id": "036d8543-7c34-4c17-83ff-da476f559463",
   "metadata": {},
   "outputs": [
    {
     "data": {
      "text/plain": [
       "array(['Rice - Retail', 'Wheat flour - Retail', 'Beans (white) - Retail',\n",
       "       'Potatoes - Retail', 'Eggs - Retail', 'Meat (chicken) - Retail',\n",
       "       'Sugar - Retail', 'Garlic - Retail', 'Lentils - Retail',\n",
       "       'Pasta - Retail', 'Tomatoes - Retail',\n",
       "       'Groundnuts (shelled) - Retail', 'Bread (common) - Retail',\n",
       "       'Coffee - Retail', 'Onions - Retail', 'Tea (green) - Retail',\n",
       "       'Cabbage - Retail', 'Meat (mutton) - Retail',\n",
       "       'Oil (sunflower) - Retail', 'Salt - Retail',\n",
       "       'Coffee (instant) - Retail', 'Peas (green, dry) - Retail',\n",
       "       'Apples (red) - Retail', 'Cauliflower - Retail',\n",
       "       'Cucumbers (greenhouse) - Retail', 'Oil (olive) - Retail',\n",
       "       'Chickpeas - Retail', 'Bananas - Retail', 'Bulgur - Retail',\n",
       "       'Tea - Retail', 'Fuel (petrol-gasoline) - Retail',\n",
       "       'Transport (public) - Retail', 'Tomatoes (paste) - Retail',\n",
       "       'Fuel (gas) - Retail', 'Apples - Retail', 'Oranges - Retail',\n",
       "       'Yogurt - Retail', 'Bread (pita) - Retail', 'Cucumbers - Retail',\n",
       "       'Fish (fresh) - Retail', 'Spinach - Retail', 'Cheese - Retail',\n",
       "       'Meat (veal) - Retail', 'Eggplants - Retail',\n",
       "       'Milk (powder, infant formula) - Retail', 'Zucchini - Retail',\n",
       "       'Milk (pasteurized) - Retail',\n",
       "       'Wage (non-qualified labour, non-agricultural) - Retail',\n",
       "       'Electricity - Retail', 'Tea (herbal) - Retail', 'Water - Retail',\n",
       "       'Cocoa (powder) - Retail'], dtype=object)"
      ]
     },
     "execution_count": 16,
     "metadata": {},
     "output_type": "execute_result"
    }
   ],
   "source": [
    "df.ProductName.unique()"
   ]
  },
  {
   "cell_type": "code",
   "execution_count": 17,
   "id": "b0beaa04-1587-446c-a7a3-133ebee7215b",
   "metadata": {},
   "outputs": [],
   "source": [
    "# Tính toán giá trà trung bình theo tháng\n",
    "temp = df[df.ProductName == \"Tea - Retail\"]\n",
    "df_tea = temp.groupby(\"Time\")[\"Price\"].mean()"
   ]
  },
  {
   "cell_type": "code",
   "execution_count": 18,
   "id": "a817b60e-a242-4b9e-9227-72f9cd3ebddc",
   "metadata": {},
   "outputs": [],
   "source": [
    "# Tính toán giá coffee trung bình theo tháng\n",
    "temp = df[df.ProductName == \"Coffee - Retail\"]\n",
    "df_coffee = temp.groupby(\"Time\")[\"Price\"].mean()"
   ]
  },
  {
   "cell_type": "code",
   "execution_count": 19,
   "id": "d5e20989-c830-4f56-a4da-e1976b771b7c",
   "metadata": {},
   "outputs": [
    {
     "data": {
      "text/plain": [
       "<AxesSubplot:xlabel='Time'>"
      ]
     },
     "execution_count": 19,
     "metadata": {},
     "output_type": "execute_result"
    },
    {
     "data": {
      "image/png": "[encoded data removed]",
      "text/plain": [
       "<Figure size 432x288 with 1 Axes>"
      ]
     },
     "metadata": {
      "needs_background": "light"
     },
     "output_type": "display_data"
    }
   ],
   "source": [
    "# Vẽ giá trà và giá coffee trung bình theo tháng\n",
    "sns.lineplot(x = df_tea.index, y = df_tea.values)\n",
    "sns.lineplot(x = df_coffee.index, y = df_coffee.values, color = \"r\")"
   ]
  },
  {
   "cell_type": "markdown",
   "id": "7983e11d-bf25-429f-a0ec-d0dda821a116",
   "metadata": {},
   "source": [
    "Biển đổi dữ liệu: Để tiến hành so sánh được giá trà và giá coffee có chênh nhau không, chúng ta cần so sánh sự khác biệt giữa giá trà và coffee theo cùng thời gian và địa điểm"
   ]
  },
  {
   "cell_type": "code",
   "execution_count": 20,
   "id": "a8222d58-61c3-4257-a5ec-efe478ca60b2",
   "metadata": {},
   "outputs": [],
   "source": [
    "df[\"Time_Place\"] = df.Time.astype(str) + \"-\" + df.Place.astype(str)"
   ]
  },
  {
   "cell_type": "code",
   "execution_count": 21,
   "id": "5850be15-3b03-48b1-8484-a50970087a4b",
   "metadata": {},
   "outputs": [
    {
     "name": "stdout",
     "output_type": "stream",
     "text": [
      "<class 'pandas.core.frame.DataFrame'>\n",
      "RangeIndex: 7381 entries, 0 to 7380\n",
      "Data columns (total 10 columns):\n",
      " #   Column       Non-Null Count  Dtype         \n",
      "---  ------       --------------  -----         \n",
      " 0   Place        7381 non-null   object        \n",
      " 1   ProductId    7381 non-null   int64         \n",
      " 2   ProductName  7381 non-null   object        \n",
      " 3   UmId         7381 non-null   int64         \n",
      " 4   UmName       7381 non-null   object        \n",
      " 5   Month        7381 non-null   int64         \n",
      " 6   Year         7381 non-null   int64         \n",
      " 7   Price        7381 non-null   float64       \n",
      " 8   Time         7381 non-null   datetime64[ns]\n",
      " 9   Time_Place   7381 non-null   object        \n",
      "dtypes: datetime64[ns](1), float64(1), int64(4), object(4)\n",
      "memory usage: 576.8+ KB\n"
     ]
    }
   ],
   "source": [
    "df.info()"
   ]
  },
  {
   "cell_type": "code",
   "execution_count": 22,
   "id": "3f3dda56-76c3-47f8-a7e9-48ccf5cbb243",
   "metadata": {},
   "outputs": [
    {
     "data": {
      "text/plain": [
       "array(['Rice - Retail', 'Wheat flour - Retail', 'Beans (white) - Retail',\n",
       "       'Potatoes - Retail', 'Eggs - Retail', 'Meat (chicken) - Retail',\n",
       "       'Sugar - Retail', 'Garlic - Retail', 'Lentils - Retail',\n",
       "       'Pasta - Retail', 'Tomatoes - Retail',\n",
       "       'Groundnuts (shelled) - Retail', 'Bread (common) - Retail',\n",
       "       'Coffee - Retail', 'Onions - Retail', 'Tea (green) - Retail',\n",
       "       'Cabbage - Retail', 'Meat (mutton) - Retail',\n",
       "       'Oil (sunflower) - Retail', 'Salt - Retail',\n",
       "       'Coffee (instant) - Retail', 'Peas (green, dry) - Retail',\n",
       "       'Apples (red) - Retail', 'Cauliflower - Retail',\n",
       "       'Cucumbers (greenhouse) - Retail', 'Oil (olive) - Retail',\n",
       "       'Chickpeas - Retail', 'Bananas - Retail', 'Bulgur - Retail',\n",
       "       'Tea - Retail', 'Fuel (petrol-gasoline) - Retail',\n",
       "       'Transport (public) - Retail', 'Tomatoes (paste) - Retail',\n",
       "       'Fuel (gas) - Retail', 'Apples - Retail', 'Oranges - Retail',\n",
       "       'Yogurt - Retail', 'Bread (pita) - Retail', 'Cucumbers - Retail',\n",
       "       'Fish (fresh) - Retail', 'Spinach - Retail', 'Cheese - Retail',\n",
       "       'Meat (veal) - Retail', 'Eggplants - Retail',\n",
       "       'Milk (powder, infant formula) - Retail', 'Zucchini - Retail',\n",
       "       'Milk (pasteurized) - Retail',\n",
       "       'Wage (non-qualified labour, non-agricultural) - Retail',\n",
       "       'Electricity - Retail', 'Tea (herbal) - Retail', 'Water - Retail',\n",
       "       'Cocoa (powder) - Retail'], dtype=object)"
      ]
     },
     "execution_count": 22,
     "metadata": {},
     "output_type": "execute_result"
    }
   ],
   "source": [
    "df.ProductName.unique()"
   ]
  },
  {
   "cell_type": "code",
   "execution_count": 23,
   "id": "b361ad48-8767-47ea-a8fb-333c0738453b",
   "metadata": {},
   "outputs": [
    {
     "data": {
      "text/plain": [
       "array(['2013-05-01-National Average', '2013-06-01-National Average',\n",
       "       '2013-11-01-National Average', '2013-12-01-National Average',\n",
       "       '2014-01-01-National Average', '2014-02-01-National Average',\n",
       "       '2014-03-01-National Average', '2014-05-01-National Average',\n",
       "       '2014-06-01-National Average', '2014-07-01-National Average',\n",
       "       '2014-08-01-National Average', '2014-09-01-National Average',\n",
       "       '2014-10-01-National Average', '2014-11-01-National Average',\n",
       "       '2014-12-01-National Average', '2015-01-01-National Average',\n",
       "       '2015-02-01-National Average', '2015-03-01-National Average',\n",
       "       '2015-04-01-National Average', '2015-05-01-National Average',\n",
       "       '2015-06-01-National Average', '2015-07-01-National Average',\n",
       "       '2015-08-01-National Average', '2015-09-01-National Average',\n",
       "       '2015-10-01-National Average', '2015-11-01-National Average',\n",
       "       '2015-12-01-National Average', '2016-01-01-National Average',\n",
       "       '2016-02-01-National Average', '2016-03-01-National Average',\n",
       "       '2016-04-01-National Average', '2016-05-01-National Average',\n",
       "       '2016-06-01-National Average', '2016-07-01-National Average',\n",
       "       '2016-08-01-National Average', '2016-09-01-National Average',\n",
       "       '2016-10-01-National Average', '2016-11-01-National Average',\n",
       "       '2016-12-01-National Average', '2017-01-01-National Average',\n",
       "       '2017-02-01-National Average', '2017-03-01-National Average',\n",
       "       '2018-01-01-National Average', '2018-02-01-National Average',\n",
       "       '2018-03-01-National Average', '2018-04-01-National Average',\n",
       "       '2018-05-01-National Average', '2018-06-01-National Average',\n",
       "       '2018-07-01-National Average', '2018-08-01-National Average',\n",
       "       '2018-09-01-National Average', '2018-10-01-National Average',\n",
       "       '2018-11-01-National Average', '2018-12-01-National Average',\n",
       "       '2019-01-01-National Average', '2019-02-01-National Average',\n",
       "       '2019-03-01-National Average', '2019-04-01-National Average',\n",
       "       '2019-05-01-National Average', '2019-06-01-National Average',\n",
       "       '2019-07-01-National Average', '2019-08-01-National Average',\n",
       "       '2019-09-01-National Average', '2019-10-01-National Average',\n",
       "       '2019-11-01-National Average', '2019-12-01-National Average',\n",
       "       '2017-01-01-Ankara', '2017-02-01-Ankara', '2017-03-01-Ankara',\n",
       "       '2017-04-01-Ankara', '2017-05-01-Ankara', '2017-06-01-Ankara',\n",
       "       '2017-07-01-Ankara', '2017-08-01-Ankara', '2017-09-01-Ankara',\n",
       "       '2017-10-01-Ankara', '2017-11-01-Ankara', '2017-12-01-Ankara',\n",
       "       '2018-01-01-Ankara', '2018-02-01-Ankara', '2018-03-01-Ankara',\n",
       "       '2018-04-01-Ankara', '2018-05-01-Ankara', '2018-06-01-Ankara',\n",
       "       '2018-07-01-Ankara', '2018-08-01-Ankara', '2018-09-01-Ankara',\n",
       "       '2018-10-01-Ankara', '2018-11-01-Ankara', '2018-12-01-Ankara',\n",
       "       '2019-01-01-Ankara', '2019-02-01-Ankara', '2019-03-01-Ankara',\n",
       "       '2019-04-01-Ankara', '2019-05-01-Ankara', '2019-06-01-Ankara',\n",
       "       '2019-07-01-Ankara', '2019-08-01-Ankara', '2019-09-01-Ankara',\n",
       "       '2019-10-01-Ankara', '2019-11-01-Ankara', '2019-12-01-Ankara',\n",
       "       '2017-01-01-Istanbul', '2017-02-01-Istanbul',\n",
       "       '2017-03-01-Istanbul', '2017-04-01-Istanbul',\n",
       "       '2017-05-01-Istanbul', '2017-06-01-Istanbul',\n",
       "       '2017-07-01-Istanbul', '2017-08-01-Istanbul',\n",
       "       '2017-09-01-Istanbul', '2017-10-01-Istanbul',\n",
       "       '2017-11-01-Istanbul', '2017-12-01-Istanbul',\n",
       "       '2018-01-01-Istanbul', '2018-02-01-Istanbul',\n",
       "       '2018-03-01-Istanbul', '2018-04-01-Istanbul',\n",
       "       '2018-05-01-Istanbul', '2018-06-01-Istanbul',\n",
       "       '2018-07-01-Istanbul', '2018-08-01-Istanbul',\n",
       "       '2018-09-01-Istanbul', '2018-10-01-Istanbul',\n",
       "       '2018-11-01-Istanbul', '2018-12-01-Istanbul',\n",
       "       '2019-01-01-Istanbul', '2019-02-01-Istanbul',\n",
       "       '2019-03-01-Istanbul', '2019-04-01-Istanbul',\n",
       "       '2019-05-01-Istanbul', '2019-06-01-Istanbul',\n",
       "       '2019-07-01-Istanbul', '2019-08-01-Istanbul',\n",
       "       '2019-09-01-Istanbul', '2019-10-01-Istanbul',\n",
       "       '2019-11-01-Istanbul', '2019-12-01-Istanbul', '2017-01-01-Izmir',\n",
       "       '2017-02-01-Izmir', '2017-03-01-Izmir', '2017-04-01-Izmir',\n",
       "       '2017-05-01-Izmir', '2017-06-01-Izmir', '2017-07-01-Izmir',\n",
       "       '2017-08-01-Izmir', '2017-09-01-Izmir', '2017-10-01-Izmir',\n",
       "       '2017-11-01-Izmir', '2017-12-01-Izmir', '2018-01-01-Izmir',\n",
       "       '2018-02-01-Izmir', '2018-03-01-Izmir', '2018-04-01-Izmir',\n",
       "       '2018-05-01-Izmir', '2018-06-01-Izmir', '2018-07-01-Izmir',\n",
       "       '2018-08-01-Izmir', '2018-09-01-Izmir', '2018-10-01-Izmir',\n",
       "       '2018-11-01-Izmir', '2018-12-01-Izmir', '2019-01-01-Izmir',\n",
       "       '2019-02-01-Izmir', '2019-03-01-Izmir', '2019-04-01-Izmir',\n",
       "       '2019-05-01-Izmir', '2019-06-01-Izmir', '2019-07-01-Izmir',\n",
       "       '2019-08-01-Izmir', '2019-09-01-Izmir', '2019-10-01-Izmir',\n",
       "       '2019-11-01-Izmir', '2019-12-01-Izmir'], dtype=object)"
      ]
     },
     "execution_count": 23,
     "metadata": {},
     "output_type": "execute_result"
    }
   ],
   "source": [
    "df.Time_Place.unique()"
   ]
  },
  {
   "cell_type": "code",
   "execution_count": 24,
   "id": "5e0edcb6-2128-4cd8-81fa-75296802245a",
   "metadata": {},
   "outputs": [],
   "source": [
    "# Lọc ra giá trà theo thời gian và địa điểm\n",
    "temp_1 = df[df.ProductName == \"Tea - Retail\"].filter([\"Time_Place\", \"Price\"])\n",
    "temp_1 = temp_1.rename(columns = {\"Price\": \"Tea\"})\n",
    "\n",
    "# Lọc ra giá coffee theo thời gian và địa điểm\n",
    "temp_2 = df[df.ProductName == \"Coffee - Retail\"].filter([\"Time_Place\", \"Price\"])\n",
    "temp_2 = temp_2.rename(columns = {\"Price\": \"Coffee\"})"
   ]
  },
  {
   "cell_type": "code",
   "execution_count": 25,
   "id": "c7b6bfd7-9024-43b9-a881-7f760783445e",
   "metadata": {},
   "outputs": [
    {
     "data": {
      "text/html": [
       "<div>\n",
       "<style scoped>\n",
       "    .dataframe tbody tr th:only-of-type {\n",
       "        vertical-align: middle;\n",
       "    }\n",
       "\n",
       "    .dataframe tbody tr th {\n",
       "        vertical-align: top;\n",
       "    }\n",
       "\n",
       "    .dataframe thead th {\n",
       "        text-align: right;\n",
       "    }\n",
       "</style>\n",
       "<table border=\"1\" class=\"dataframe\">\n",
       "  <thead>\n",
       "    <tr style=\"text-align: right;\">\n",
       "      <th></th>\n",
       "      <th>Time_Place</th>\n",
       "      <th>Tea</th>\n",
       "      <th>Coffee</th>\n",
       "    </tr>\n",
       "  </thead>\n",
       "  <tbody>\n",
       "    <tr>\n",
       "      <th>0</th>\n",
       "      <td>2013-05-01-National Average</td>\n",
       "      <td>14.0201</td>\n",
       "      <td>30.8937</td>\n",
       "    </tr>\n",
       "    <tr>\n",
       "      <th>1</th>\n",
       "      <td>2013-06-01-National Average</td>\n",
       "      <td>14.0003</td>\n",
       "      <td>31.0164</td>\n",
       "    </tr>\n",
       "    <tr>\n",
       "      <th>2</th>\n",
       "      <td>2013-11-01-National Average</td>\n",
       "      <td>14.1921</td>\n",
       "      <td>30.7445</td>\n",
       "    </tr>\n",
       "    <tr>\n",
       "      <th>3</th>\n",
       "      <td>2013-12-01-National Average</td>\n",
       "      <td>14.3991</td>\n",
       "      <td>30.9079</td>\n",
       "    </tr>\n",
       "    <tr>\n",
       "      <th>4</th>\n",
       "      <td>2014-01-01-National Average</td>\n",
       "      <td>15.2072</td>\n",
       "      <td>31.2607</td>\n",
       "    </tr>\n",
       "  </tbody>\n",
       "</table>\n",
       "</div>"
      ],
      "text/plain": [
       "                    Time_Place      Tea   Coffee\n",
       "0  2013-05-01-National Average  14.0201  30.8937\n",
       "1  2013-06-01-National Average  14.0003  31.0164\n",
       "2  2013-11-01-National Average  14.1921  30.7445\n",
       "3  2013-12-01-National Average  14.3991  30.9079\n",
       "4  2014-01-01-National Average  15.2072  31.2607"
      ]
     },
     "execution_count": 25,
     "metadata": {},
     "output_type": "execute_result"
    }
   ],
   "source": [
    "final_df = pd.merge(temp_1, temp_2, on = \"Time_Place\")\n",
    "final_df.head()"
   ]
  },
  {
   "cell_type": "code",
   "execution_count": 26,
   "id": "a339480c-6ccf-47f1-ad46-9eef2c0651d1",
   "metadata": {},
   "outputs": [],
   "source": [
    "# Tiến hành kiểm định giả thiết:\n",
    "# Giả thiết không: Giá cà phê bằng giá trà cộng thêm 15 Lira ở mọi thời điểm\n",
    "# Giả thiết đối: Giá cà phê luôn hơn giá trà 15 Lira ở mọi thời điểm"
   ]
  },
  {
   "cell_type": "code",
   "execution_count": 27,
   "id": "34bb2b79-db11-438d-9a46-abbac65ca722",
   "metadata": {},
   "outputs": [
    {
     "data": {
      "text/plain": [
       "WilcoxonResult(statistic=9838.0, pvalue=0.0004122034397612688)"
      ]
     },
     "execution_count": 27,
     "metadata": {},
     "output_type": "execute_result"
    }
   ],
   "source": [
    "# Thực hiện biến đối dữ liệu\n",
    "d = final_df.Coffee - final_df.Tea - 15\n",
    "\n",
    "# Thực hiện kiểm định wilcolxon với giả thiết đối được định nghĩa ở trên\n",
    "stats.wilcoxon(d, alternative= \"greater\")"
   ]
  },
  {
   "cell_type": "markdown",
   "id": "14c1afb9-c23b-4d2e-bf2d-7a92306a1716",
   "metadata": {},
   "source": [
    "Do pvalue < 1% rất nhiều => Bác bỏ giải thiết không, chấp nhận giả thiết đối </br>\n",
    "Giá cà phê luôn lớn hơn giá trà ít nhất 15 Lira mà không bị ảnh hưởng bởi thời gian hay địa điểm"
   ]
  }
 ],
 "metadata": {
  "kernelspec": {
   "display_name": "Python 3 (ipykernel)",
   "language": "python",
   "name": "python3"
  },
  "language_info": {
   "codemirror_mode": {
    "name": "ipython",
    "version": 3
   },
   "file_extension": ".py",
   "mimetype": "text/x-python",
   "name": "python",
   "nbconvert_exporter": "python",
   "pygments_lexer": "ipython3",
   "version": "3.10.1"
  }
 },
 "nbformat": 4,
 "nbformat_minor": 5
}
